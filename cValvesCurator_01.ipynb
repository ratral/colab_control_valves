{
  "nbformat": 4,
  "nbformat_minor": 0,
  "metadata": {
    "colab": {
      "name": "cValvesCurator_01.ipynb",
      "provenance": [],
      "collapsed_sections": [],
      "authorship_tag": "ABX9TyNpX3R5CM0bzUCB5PmxlUMy",
      "include_colab_link": true
    },
    "kernelspec": {
      "name": "ir",
      "display_name": "R"
    }
  },
  "cells": [
    {
      "cell_type": "markdown",
      "metadata": {
        "id": "view-in-github",
        "colab_type": "text"
      },
      "source": [
        "<a href=\"https://colab.research.google.com/github/ratral/colab_control_valves/blob/master/cValvesCurator_01.ipynb\" target=\"_parent\"><img src=\"https://colab.research.google.com/assets/colab-badge.svg\" alt=\"Open In Colab\"/></a>"
      ]
    },
    {
      "cell_type": "markdown",
      "metadata": {
        "id": "mb9psRe34j4-",
        "colab_type": "text"
      },
      "source": [
        "# 1.- Installing an R Packages and functions.\n",
        "\n",
        "_Read libraries_"
      ]
    },
    {
      "cell_type": "code",
      "metadata": {
        "id": "EsyWOVNF4fQI",
        "colab_type": "code",
        "colab": {
          "base_uri": "https://localhost:8080/",
          "height": 52
        },
        "outputId": "133a360d-0399-4105-c7a4-89c4cd1378be"
      },
      "source": [
        "requiredPackages <- c( \"tidyverse\", \"here\", \"devtools\", \"scales\",\n",
        "                       \"knitr\",\"kableExtra\", \"IRdisplay\", \"latex2exp\")\n",
        "\n",
        "  for(p in requiredPackages){\n",
        "    if(!require( p, character.only = TRUE)) install.packages(p)\n",
        "    library( p, character.only = TRUE)\n",
        "  }"
      ],
      "execution_count": 49,
      "outputs": [
        {
          "output_type": "stream",
          "text": [
            "Loading required package: latex2exp\n",
            "\n"
          ],
          "name": "stderr"
        }
      ]
    },
    {
      "cell_type": "markdown",
      "metadata": {
        "id": "KKMQlk9wgtKx",
        "colab_type": "text"
      },
      "source": [
        "_Read hydraulic and valves functions_"
      ]
    },
    {
      "cell_type": "code",
      "metadata": {
        "id": "WAYoclsdgik5",
        "colab_type": "code",
        "colab": {}
      },
      "source": [
        "\n",
        "  devtools::install_github( \"ratral/wcontrolvalve\")"
      ],
      "execution_count": null,
      "outputs": []
    },
    {
      "cell_type": "markdown",
      "metadata": {
        "id": "sk4i1voSi57E",
        "colab_type": "text"
      },
      "source": [
        "# 2.- The issue to be solved (Control Valve Selection)\n",
        "\n",
        "The objective of this exercise is to select between three possible types of control valves (the same valve but different types of cylinders) the most suitable for the operation of the system.\n",
        "\n",
        "The conditions are as follows:\n",
        "\n",
        "  - the diameter of the valve is smaller than the diameter of the pipes;\n",
        "  -  the system requires a constant flow,\n",
        "  - the pressures upstream and downstream of the valve vary during the operation of the system;\n",
        "  - Initially, only three operational points will be evaluated.\n",
        "\n",
        "The steps to follow are those:\n",
        "\n",
        "   - Step 1. Specify the data and variables required to size the valve.\n"
      ]
    },
    {
      "cell_type": "markdown",
      "metadata": {
        "id": "jrvIs_1ylMYo",
        "colab_type": "text"
      },
      "source": [
        "## Step 1. Specify the data and variables required to size the valve."
      ]
    },
    {
      "cell_type": "markdown",
      "metadata": {
        "id": "gE0Nx9TTlovP",
        "colab_type": "text"
      },
      "source": [
        "### Basic data"
      ]
    },
    {
      "cell_type": "code",
      "metadata": {
        "id": "5iKXtG9Vld-R",
        "colab_type": "code",
        "colab": {}
      },
      "source": [
        "  temp <- 15.00   # Upstream water temperature in centigrade (°C)\n",
        "  elev <- 2700    # Elevation above sea level - in meter - \n",
        "  flow <- 9396    # Flow in m3/h\n",
        "  d    <- 1.000    # Diameter of the valve in meter\n",
        "  d1   <- 1.400    # Diameter of the Pipe Upstream in meter\n",
        "  d2   <- 1.200    # Diameter of the Pipe Downstream in meter"
      ],
      "execution_count": 27,
      "outputs": []
    },
    {
      "cell_type": "markdown",
      "metadata": {
        "id": "Ej4ATPHwl2G0",
        "colab_type": "text"
      },
      "source": [
        "### Minimum, mean, and maximum pressures upstream and downstream of the valve and flow. \n",
        "\n",
        "(Pressure in $bar$ and flow in $m^3/hr$)"
      ]
    },
    {
      "cell_type": "code",
      "metadata": {
        "id": "8vvwbbedmS1T",
        "colab_type": "code",
        "colab": {}
      },
      "source": [
        "  base_data <- tribble(\n",
        "    ~measurement, ~p1,   ~p2, ~flow,\n",
        "    \"Min.\",      1.720, 0.614,  9396,\n",
        "    \"Mean\",      1.410, 0.684,  9396,\n",
        "    \"Max.\",      1.370, 1.009,  9396\n",
        "  ) "
      ],
      "execution_count": 28,
      "outputs": []
    },
    {
      "cell_type": "markdown",
      "metadata": {
        "id": "VJLZ46afpmKh",
        "colab_type": "text"
      },
      "source": [
        "### Flow characteristic curve of the valve (inherent flow characteristic of the valve).\n",
        "\n",
        "  - parameters of the flow characteristic curve:\n",
        "    - $b$ denoting the steepness of the low characteristic curve, \n",
        "    - $d$ is the upper asymptotes or limits of the response, and, \n",
        "    - $e$ is the effective dose. \n",
        "  - Loss Coefficient $(\\zeta_{v_s})$ is the Zeta value of the valve by 100% opening.\n",
        "  - $F_{L_s}$ is the Liquid Pressure Recovery Factor by 100%"
      ]
    },
    {
      "cell_type": "code",
      "metadata": {
        "id": "MQb7L88PqVo1",
        "colab_type": "code",
        "colab": {}
      },
      "source": [
        "  valve <- tribble(\n",
        "    ~name,         ~b,    ~d,      ~e,   ~zvs,  ~fls,\n",
        "    \"valve_01\", -2.393,\t1.389,  67.422,\t 1.780,\t0.617, # 0\n",
        "    \"valve_02\", -3.893,\t1.146,  61.038,  3.000,\t0.598, # 20-30\n",
        "    \"valve_03\", -2.755, 1.979,  99.215, 15.830, 0.775  # 40\n",
        "  ) \n",
        "  "
      ],
      "execution_count": 29,
      "outputs": []
    },
    {
      "cell_type": "markdown",
      "metadata": {
        "id": "deDSix1Vq86W",
        "colab_type": "text"
      },
      "source": [
        "## Step 2. Calculation $ K_{v_s}$, $F_{P_s}$ and $F_{LP_s}$ \n",
        "\n",
        "- Flow coefficient by 100% opening : $ K_{v_s} = \\frac{d^2}{\\sqrt{626.3}} \\cdot \\frac{1}{\\sqrt{\\zeta_{v_s}}}$\n",
        "\n",
        "- Piping geometry factor by 100% opening : $F_{P_s} = \\frac{1}{\\sqrt{1+\\frac{\\sum{\\zeta} \\cdot \\left(\\frac{K_{v_s}}{d^2} \\right)^2}{0.0016}}}$\n",
        "\n",
        "- Combined liquid pressure recovery factor: $F_{LP_s} = \\frac{F_{L_s}}{\\sqrt{1 + F_{L_s} \\cdot \\frac{\\sum{\\zeta} \\cdot \\left(\\frac{K_{v_s}}{d^2} \\right)^2}{0.0016}}}$ \n",
        "\n",
        "In this equations, the factor $\\sum \\zeta$ is the algebraic sum of all effective resistance coefficients of all fittings that are attached to the control valve. This does not include the drag coefficient of the control valve itself.\n",
        "\n",
        "$ \\sum{\\zeta} = (\\zeta_{1} + \\zeta_{2}) + (\\zeta_{B_1} - \\zeta_{B_2})$\n",
        "\n",
        "\n",
        "Where:\n",
        "\n",
        "  - $\\zeta_1$ is the resistance coefficient of the valve in the inlet : $\\zeta_1 = 0.5 \\cdot \\left( 1 - \\left( \\frac{d}{D_1}\\right)^2 \\right)^2$\n",
        "  - $\\zeta_{2}$ is the resistance coefficient of the valve in the outlet : $\\zeta_2 = \\left( 1 - \\left( \\frac{d}{D_2}\\right)^2 \\right)^2$\n",
        "  - $\\zeta_{B_1}$  is the Bernoulli pressure number in the valve inlet : $\\zeta_{B_1} = 1- \\left( \\frac{d}{D_1}  \\right)^4$\n",
        "  - $\\zeta_{B_2}$  is the Bernoulli pressure number in the valve outlet :$\\zeta_{B_2} = 1- \\left( \\frac{d}{D_2}  \\right)^4$\n",
        "\n",
        "\n",
        "\n",
        "\n",
        "\n"
      ]
    },
    {
      "cell_type": "code",
      "metadata": {
        "id": "TBNAhdlm04yO",
        "colab_type": "code",
        "colab": {
          "base_uri": "https://localhost:8080/",
          "height": 122
        },
        "outputId": "d5c7e8f2-df10-4dba-900e-8be453d272f2"
      },
      "source": [
        "  valve <- valve %>% \n",
        "    mutate( kvs  = wcontrolvalve::kv_value(d, zvs)) %>% \n",
        "    mutate( fps  = wcontrolvalve::fp(kvs, d*1000, d1*1000, d2*1000)) %>% \n",
        "    mutate( flps = wcontrolvalve::flp(kvs, fls, d*1000, d1*1000, d2*1000)) %>% \n",
        "    mutate( flps_fps = flps/fps) %>% \n",
        "    select( name, b, d, e, kvs, zvs,  fls, fps, flps, flps_fps)\n",
        "\n",
        "  # Print Table\n",
        "  valve %>%\n",
        "    select(name, kvs, zvs, fls, fps, flps, flps_fps) %>%  \n",
        "    mutate( kvs = scales::comma(kvs)) %>%\n",
        "    kbl(caption =\"Parameter of the valves\",\n",
        "        col.names = c(\"name\", \"Kvs\", \"Zeta\", \"FLs\", \"Fps\", \"FLps\", \"FLps/Fps\"),\n",
        "        digits = c(0, 0, 3, 3, 3, 3, 3)) %>% \n",
        "    kable_classic( bootstrap_options = \"striped\", full_width = F, position = \"left\")  %>%\n",
        "    column_spec(column = 1:7, width = \"0.6in\")  %>%\n",
        "    as.character() %>%\n",
        "    display_html()"
      ],
      "execution_count": 63,
      "outputs": [
        {
          "output_type": "display_data",
          "data": {
            "text/html": [
              "<table class=\" lightable-classic\" style='font-family: \"Arial Narrow\", \"Source Sans Pro\", sans-serif; width: auto !important; '>\n",
              "<caption>Parameter of the valves</caption>\n",
              " <thead>\n",
              "  <tr>\n",
              "   <th style=\"text-align:left;\"> name </th>\n",
              "   <th style=\"text-align:left;\"> Kvs </th>\n",
              "   <th style=\"text-align:right;\"> Zeta </th>\n",
              "   <th style=\"text-align:right;\"> FLs </th>\n",
              "   <th style=\"text-align:right;\"> Fps </th>\n",
              "   <th style=\"text-align:right;\"> FLps </th>\n",
              "   <th style=\"text-align:right;\"> FLps/Fps </th>\n",
              "  </tr>\n",
              " </thead>\n",
              "<tbody>\n",
              "  <tr>\n",
              "   <td style=\"text-align:left;width: 0.6in; \"> valve_01 </td>\n",
              "   <td style=\"text-align:left;width: 0.6in; \"> 57,783 </td>\n",
              "   <td style=\"text-align:right;width: 0.6in; \"> 1.78 </td>\n",
              "   <td style=\"text-align:right;width: 0.6in; \"> 0.617 </td>\n",
              "   <td style=\"text-align:right;width: 0.6in; \"> 0.737 </td>\n",
              "   <td style=\"text-align:right;width: 0.6in; \"> 0.537 </td>\n",
              "   <td style=\"text-align:right;width: 0.6in; \"> 0.729 </td>\n",
              "  </tr>\n",
              "  <tr>\n",
              "   <td style=\"text-align:left;width: 0.6in; \"> valve_02 </td>\n",
              "   <td style=\"text-align:left;width: 0.6in; \"> 30,298 </td>\n",
              "   <td style=\"text-align:right;width: 0.6in; \"> 3.00 </td>\n",
              "   <td style=\"text-align:right;width: 0.6in; \"> 0.598 </td>\n",
              "   <td style=\"text-align:right;width: 0.6in; \"> 0.817 </td>\n",
              "   <td style=\"text-align:right;width: 0.6in; \"> 0.551 </td>\n",
              "   <td style=\"text-align:right;width: 0.6in; \"> 0.674 </td>\n",
              "  </tr>\n",
              "  <tr>\n",
              "   <td style=\"text-align:left;width: 0.6in; \"> valve_03 </td>\n",
              "   <td style=\"text-align:left;width: 0.6in; \"> 39,333 </td>\n",
              "   <td style=\"text-align:right;width: 0.6in; \"> 15.83 </td>\n",
              "   <td style=\"text-align:right;width: 0.6in; \"> 0.775 </td>\n",
              "   <td style=\"text-align:right;width: 0.6in; \"> 0.956 </td>\n",
              "   <td style=\"text-align:right;width: 0.6in; \"> 0.754 </td>\n",
              "   <td style=\"text-align:right;width: 0.6in; \"> 0.789 </td>\n",
              "  </tr>\n",
              "</tbody>\n",
              "</table>"
            ]
          },
          "metadata": {
            "tags": []
          }
        }
      ]
    },
    {
      "cell_type": "markdown",
      "metadata": {
        "id": "s0DmVIrHwyqr",
        "colab_type": "text"
      },
      "source": [
        "## Step 3. Calculation of the $K_v$, $Z_v$ ans $\\sigma$ for the valve data "
      ]
    },
    {
      "cell_type": "code",
      "metadata": {
        "id": "gpxRSNZ7yiie",
        "colab_type": "code",
        "colab": {}
      },
      "source": [
        "  # Calculation characteristics\n",
        "  \n",
        "  base_data <- base_data %>% \n",
        "    mutate( dp = (p1 - p2),\n",
        "            kv = wcontrolvalve::kv(p1, p2, flow, temp)) %>% \n",
        "    mutate( zeta  = wcontrolvalve::zeta_vaule(d, kv),\n",
        "            sig_1 = wcontrolvalve::sigma_1(p1, p2, elev, temp)) \n",
        "  \n",
        "  data_analyse <- valve %>% \n",
        "    mutate(data = list(base_data)) %>% \n",
        "    unnest(data) %>% \n",
        "    mutate(kv_kvs = ifelse(kv > kvs, NA, kv/kvs), position = 0)\n",
        "  \n",
        "  for(i in c(1:length(data_analyse$kv_kvs))){\n",
        "    if(is.na(data_analyse$kv_kvs[i])){\n",
        "      data_analyse$position[i] <- NA\n",
        "    } else {\n",
        "      data_analyse$position[i] <- wcontrolvalve::inv_LL3(\n",
        "        data_analyse$kv_kvs[i], \n",
        "        data_analyse$b[i],\n",
        "        data_analyse$d[i],\n",
        "        data_analyse$e[i])\n",
        "    }\n",
        "  }\n",
        "\n",
        "  data_analyse <- data_analyse %>% \n",
        "    mutate( flp_fp = ifelse( kv > kvs, NA, \n",
        "                             wcontrolvalve::fl_function( position, b, d, e, flps_fps)),\n",
        "            Sig_i  = ifelse( kv > kvs, NA, \n",
        "                             wcontrolvalve::Sigma_i( position,  b,  d,  e, flps_fps)),  # Incipient Cavitation\n",
        "            Sig_c  = ifelse( kv > kvs, NA, \n",
        "                             wcontrolvalve::Sigma_c( position,  b,  d,  e, flps_fps)),  # Constant Cavitation\n",
        "            Sig_mv = ifelse( kv > kvs, NA, \n",
        "                             wcontrolvalve::Sigma_mv( position, b,  d,  e, flps_fps)), #  Maximum Vibration Cavitation\n",
        "            regime = ifelse( kv > kvs, NA, \n",
        "                             wcontrolvalve::cavtation_regime(position,  b,  d,  e, flps_fps, sig_1)))\n",
        "  \n",
        "\n",
        "  data_analyse <- data_analyse %>%\n",
        "    group_by(name, b, d, e, zvs, kvs, fls, fps, flps, flps_fps) %>% \n",
        "    nest()\n"
      ],
      "execution_count": 69,
      "outputs": []
    }
  ]
}